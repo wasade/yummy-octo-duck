{
 "cells": [
  {
   "cell_type": "code",
   "execution_count": 2,
   "metadata": {
    "collapsed": false
   },
   "outputs": [],
   "source": [
    "%matplotlib inline\n",
    "from skbio.diversity.beta import unweighted_unifrac, weighted_unifrac, unweighted_unifrac_fast, weighted_unifrac_fast\n",
    "import pandas as pd\n",
    "from qiime_default_reference import get_reference_tree\n",
    "from skbio import TreeNode\n",
    "from skbio.diversity._fast_base import index_tree\n",
    "from biom import load_table\n",
    "from skbio.diversity.beta._fast_unifrac import make_pdist, unifrac, w_unifrac\n",
    "from cogent.maths.unifrac.fast_tree import UniFracTreeNode\n",
    "from cogent.maths.unifrac.fast_unifrac import fast_unifrac\n",
    "from cogent.parse.tree import DndParser\n",
    "from skbio.diversity.beta import pw_distances\n",
    "import numpy as np\n",
    "\n",
    "\n",
    "np.random.seed(1234)\n",
    "\n",
    "bench_data = load_table('data/AG_even10k.biom')\n",
    "tree = TreeNode.read(get_reference_tree())\n",
    "\n",
    "# correct a missing branchlength in the reference tree\n",
    "for n in tree.traverse(include_self=False):\n",
    "    if n.length is None:\n",
    "        n.length = 0.0\n",
    "        \n",
    "def make_and_run_pw_distances(method, counts, otu_ids, tree, normalized=False, ids=None):\n",
    "    metric, counts_array, length = make_pdist(counts, otu_ids, tree, normalized=normalized, metric=method)\n",
    "    return pw_distances(metric, counts_array, ids=ids)\n",
    "\n",
    "def get_random_samples(n, tree, shear):\n",
    "    samples = bench_data.subsample(n, by_id=True)\n",
    "    samples.filter(lambda v, i, md: v.sum() > 0, axis='observation')  # remove zero'd observations in place\n",
    "    ids = samples.ids().copy()\n",
    "    otu_ids = samples.ids(axis='observation').copy()\n",
    "    otu_data = samples.matrix_data.toarray().T\n",
    "    if shear:\n",
    "        t = tree.shear(otu_ids)\n",
    "    else:\n",
    "        t = tree.copy()\n",
    "        \n",
    "    return ids, otu_ids, otu_data, t"
   ]
  },
  {
   "cell_type": "code",
   "execution_count": 3,
   "metadata": {
    "collapsed": true
   },
   "outputs": [],
   "source": [
    "pyco_tree = DndParser(str(tree), UniFracTreeNode)"
   ]
  },
  {
   "cell_type": "markdown",
   "metadata": {},
   "source": [
    "Verify producing the sames results."
   ]
  },
  {
   "cell_type": "code",
   "execution_count": 4,
   "metadata": {
    "collapsed": true
   },
   "outputs": [],
   "source": [
    "def qiime_unifrac_distance_matrix(table, sample_ids, otu_ids, tree, weighted=False):\n",
    "    \"\"\"\n",
    "    Parameters\n",
    "    ----------\n",
    "    table : np.array\n",
    "       Contingency table\n",
    "       samples = rows\n",
    "       observations = columns\n",
    "    sample_ids : list, str\n",
    "       List of sample ids\n",
    "    otu_ids : list, str\n",
    "       List of otu ids\n",
    "    tree : pycogent.tree\n",
    "       phylogenetic tree data structure\n",
    "\n",
    "    Returns\n",
    "    -------\n",
    "    np.array :\n",
    "       Unifrac distance matrix\n",
    "    \"\"\"\n",
    "    df = pd.DataFrame(table, index=sample_ids, columns=otu_ids)\n",
    "    env = df.to_dict()\n",
    "    res = fast_unifrac(tree, env, weighted=weighted)\n",
    "    dist_mat = pd.DataFrame(res['distance_matrix'][0],\n",
    "                            index=res['distance_matrix'][1],\n",
    "                            columns=res['distance_matrix'][1])\n",
    "    return dist_mat\n"
   ]
  },
  {
   "cell_type": "code",
   "execution_count": 5,
   "metadata": {
    "collapsed": false
   },
   "outputs": [],
   "source": [
    "import numpy.testing as npt\n",
    "np.random.seed(0)\n",
    "ids, otu_ids, otu_data, t = get_random_samples(10, tree, True)\n",
    "\n",
    "fu_mat = make_and_run_pw_distances(unifrac, otu_data, otu_ids=otu_ids, tree=t)\n",
    "u_mat = pw_distances(unweighted_unifrac, otu_data, otu_ids=otu_ids, tree=t)\n",
    "fwu_mat = make_and_run_pw_distances(w_unifrac, otu_data, otu_ids=otu_ids, tree=t)\n",
    "wu_mat = pw_distances(weighted_unifrac, otu_data, otu_ids=otu_ids, tree=t)\n",
    "fwun_mat = make_and_run_pw_distances(w_unifrac, otu_data, otu_ids=otu_ids, tree=t, normalized=True)\n",
    "wun_mat = pw_distances(weighted_unifrac, otu_data, otu_ids=otu_ids, tree=t, normalized=True)\n",
    "qiime_fwu_mat = qiime_unifrac_distance_matrix(otu_data, sample_ids=ids, otu_ids=otu_ids, tree=pyco_tree, weighted=True)\n",
    "qiime_fu_mat = qiime_unifrac_distance_matrix(otu_data, sample_ids=ids, otu_ids=otu_ids, tree=pyco_tree, weighted=False)\n",
    "npt.assert_almost_equal(fu_mat.data, u_mat.data)\n",
    "npt.assert_almost_equal(fwu_mat.data, wu_mat.data)\n",
    "npt.assert_almost_equal(fwun_mat.data, wun_mat.data)\n",
    "\n",
    "fu_df = pd.DataFrame(fu_mat.data, index=ids, columns=ids).sort_index(axis=0).sort_index(axis=1)\n",
    "fwu_df = pd.DataFrame(fwu_mat.data, index=ids, columns=ids).sort_index(axis=0).sort_index(axis=1)\n",
    "qiime_fu_df = qiime_fu_mat.sort_index(axis=0).sort_index(axis=1)\n",
    "qiime_fwu_df = qiime_fwu_mat.sort_index(axis=0).sort_index(axis=1)\n",
    "\n",
    "npt.assert_almost_equal(fu_df.values, qiime_fu_df.values)\n",
    "npt.assert_almost_equal(fwu_df.values, qiime_fwu_df.values)"
   ]
  },
  {
   "cell_type": "markdown",
   "metadata": {},
   "source": [
    "General timing"
   ]
  },
  {
   "cell_type": "code",
   "execution_count": 6,
   "metadata": {
    "collapsed": false
   },
   "outputs": [
    {
     "name": "stdout",
     "output_type": "stream",
     "text": [
      "10 loops, best of 3: 23 ms per loop\n",
      "1 loops, best of 3: 1.01 s per loop\n",
      "10 loops, best of 3: 22.4 ms per loop\n",
      "1 loops, best of 3: 1.16 s per loop\n",
      "10 loops, best of 3: 101 ms per loop\n",
      "1 loops, best of 3: 1.46 s per loop\n",
      "1 loops, best of 3: 3.63 s per loop\n",
      "1 loops, best of 3: 3.61 s per loop\n"
     ]
    }
   ],
   "source": [
    "%timeit make_and_run_pw_distances(unifrac, otu_data, otu_ids=otu_ids, tree=t)\n",
    "%timeit pw_distances(unweighted_unifrac, otu_data, otu_ids=otu_ids, tree=t)\n",
    "%timeit make_and_run_pw_distances(w_unifrac, otu_data, otu_ids=otu_ids, tree=t)\n",
    "%timeit pw_distances(weighted_unifrac, otu_data, otu_ids=otu_ids, tree=t)\n",
    "%timeit make_and_run_pw_distances(w_unifrac, otu_data, otu_ids=otu_ids, tree=t, normalized=True)\n",
    "%timeit pw_distances(weighted_unifrac, otu_data, otu_ids=otu_ids, tree=t, normalized=True)\n",
    "%timeit qiime_fwu_mat = qiime_unifrac_distance_matrix(otu_data, sample_ids=ids, otu_ids=otu_ids, tree=pyco_tree, weighted=True)\n",
    "%timeit qiime_fu_mat = qiime_unifrac_distance_matrix(otu_data, sample_ids=ids, otu_ids=otu_ids, tree=pyco_tree, weighted=False)"
   ]
  },
  {
   "cell_type": "markdown",
   "metadata": {
    "collapsed": false
   },
   "source": [
    "API testing, making the same method calls and verifying results. Intentionally doing the full matrix in the (very unexpected event) that d(u, v) != d(v, u)"
   ]
  },
  {
   "cell_type": "code",
   "execution_count": 7,
   "metadata": {
    "collapsed": false
   },
   "outputs": [],
   "source": [
    "method_sets = [[unweighted_unifrac, unweighted_unifrac_fast], \n",
    "               [weighted_unifrac, weighted_unifrac_fast]]\n",
    "\n",
    "ids, otu_ids, otu_data, t = get_random_samples(5, tree, True)\n",
    "\n",
    "for i in range(len(otu_data)):\n",
    "    for j in range(len(otu_data)):\n",
    "        for method_set in method_sets:\n",
    "            method_results = []\n",
    "            for method in method_set:\n",
    "                method_results.append(method(otu_data[i], otu_data[j], otu_ids, t))\n",
    "            npt.assert_almost_equal(*method_results)"
   ]
  },
  {
   "cell_type": "markdown",
   "metadata": {},
   "source": [
    "`pw_distances` scaling tests."
   ]
  },
  {
   "cell_type": "code",
   "execution_count": 8,
   "metadata": {
    "collapsed": false
   },
   "outputs": [
    {
     "name": "stdout",
     "output_type": "stream",
     "text": [
      "100 loops, best of 3: 12.8 ms per loop\n",
      "100 loops, best of 3: 15 ms per loop\n",
      "10 loops, best of 3: 18.6 ms per loop\n",
      "100 loops, best of 3: 5.62 ms per loop\n",
      "100 loops, best of 3: 6.35 ms per loop\n",
      "100 loops, best of 3: 7.65 ms per loop\n",
      "1 loops, best of 3: 3.93 s per loop\n",
      "1 loops, best of 3: 3.65 s per loop\n",
      "1 loops, best of 3: 309 ms per loop\n",
      "1 loops, best of 3: 314 ms per loop\n",
      "1 loops, best of 3: 334 ms per loop\n",
      "1 loops, best of 3: 1.25 s per loop\n",
      "1 loops, best of 3: 1.36 s per loop\n",
      "1 loops, best of 3: 1.5 s per loop\n",
      "1 loops, best of 3: 3.72 s per loop\n",
      "1 loops, best of 3: 3.84 s per loop\n",
      "10 loops, best of 3: 83.9 ms per loop\n",
      "10 loops, best of 3: 93.2 ms per loop\n",
      "10 loops, best of 3: 125 ms per loop\n",
      "100 loops, best of 3: 10 ms per loop\n",
      "100 loops, best of 3: 10.5 ms per loop\n",
      "100 loops, best of 3: 16.3 ms per loop\n",
      "1 loops, best of 3: 3.56 s per loop\n",
      "1 loops, best of 3: 3.54 s per loop\n",
      "1 loops, best of 3: 1.81 s per loop\n",
      "1 loops, best of 3: 1.86 s per loop\n",
      "1 loops, best of 3: 1.94 s per loop\n",
      "1 loops, best of 3: 1.14 s per loop\n",
      "1 loops, best of 3: 1.26 s per loop\n",
      "1 loops, best of 3: 2.09 s per loop\n",
      "1 loops, best of 3: 3.81 s per loop\n",
      "1 loops, best of 3: 3.66 s per loop\n",
      "1 loops, best of 3: 535 ms per loop\n",
      "1 loops, best of 3: 608 ms per loop\n",
      "1 loops, best of 3: 827 ms per loop\n",
      "10 loops, best of 3: 21.7 ms per loop\n",
      "10 loops, best of 3: 20.9 ms per loop\n",
      "10 loops, best of 3: 70.1 ms per loop\n",
      "1 loops, best of 3: 3.89 s per loop\n",
      "1 loops, best of 3: 3.85 s per loop\n",
      "1 loops, best of 3: 9.25 s per loop\n",
      "1 loops, best of 3: 8.84 s per loop\n",
      "1 loops, best of 3: 10.2 s per loop\n",
      "1 loops, best of 3: 1.38 s per loop\n",
      "1 loops, best of 3: 1.33 s per loop\n",
      "1 loops, best of 3: 5.82 s per loop\n",
      "1 loops, best of 3: 4.09 s per loop\n",
      "1 loops, best of 3: 4.2 s per loop\n",
      "1 loops, best of 3: 2.88 s per loop\n",
      "1 loops, best of 3: 3.47 s per loop\n",
      "1 loops, best of 3: 4.13 s per loop\n",
      "10 loops, best of 3: 38.5 ms per loop\n",
      "10 loops, best of 3: 35.5 ms per loop\n",
      "1 loops, best of 3: 352 ms per loop\n",
      "1 loops, best of 3: 4.02 s per loop\n",
      "1 loops, best of 3: 3.98 s per loop\n",
      "1 loops, best of 3: 38.4 s per loop\n",
      "1 loops, best of 3: 39.7 s per loop\n",
      "1 loops, best of 3: 39.5 s per loop\n",
      "1 loops, best of 3: 1.34 s per loop\n",
      "1 loops, best of 3: 1.5 s per loop\n",
      "1 loops, best of 3: 19.6 s per loop\n",
      "1 loops, best of 3: 4.07 s per loop\n",
      "1 loops, best of 3: 3.83 s per loop\n",
      "1 loops, best of 3: 15.1 s per loop\n",
      "1 loops, best of 3: 17 s per loop\n",
      "1 loops, best of 3: 20.9 s per loop\n",
      "10 loops, best of 3: 95.9 ms per loop\n",
      "10 loops, best of 3: 81.7 ms per loop\n",
      "1 loops, best of 3: 2.34 s per loop\n",
      "1 loops, best of 3: 4.02 s per loop\n",
      "1 loops, best of 3: 4.14 s per loop\n",
      "1 loops, best of 3: 2min 33s per loop\n",
      "1 loops, best of 3: 2min 37s per loop\n",
      "1 loops, best of 3: 2min 44s per loop\n",
      "1 loops, best of 3: 1.97 s per loop\n",
      "1 loops, best of 3: 2.2 s per loop\n",
      "1 loops, best of 3: 1min 12s per loop\n",
      "1 loops, best of 3: 3.86 s per loop\n",
      "1 loops, best of 3: 3.86 s per loop\n"
     ]
    }
   ],
   "source": [
    "sample_counts = [2, 4, 8, 16, 32]\n",
    "\n",
    "uw_times = []\n",
    "uwf_times = []\n",
    "quwf_times = []\n",
    "w_times = []\n",
    "wn_times = []\n",
    "wf_times = []\n",
    "qwf_times = []\n",
    "wnf_times = []\n",
    "uw_times_p = []\n",
    "uwf_times_p = []\n",
    "quwf_times_p = []\n",
    "w_times_p = []\n",
    "wn_times_p = []\n",
    "wf_times_p = []\n",
    "qwf_times_p = []\n",
    "wnf_times_p = []\n",
    "\n",
    "for n_samples in sample_counts:\n",
    "    ids, otu_ids, otu_data, t = get_random_samples(n_samples, tree, True)\n",
    "\n",
    "    # sheared trees\n",
    "    for times, method in [[uw_times_p, unweighted_unifrac], [w_times_p, weighted_unifrac]]:\n",
    "        result = %timeit -o pw_distances(method, otu_data, otu_ids=otu_ids, tree=t)\n",
    "        times.append(result.best)\n",
    "\n",
    "    result = %timeit -o pw_distances(weighted_unifrac, otu_data, otu_ids=otu_ids, tree=t, normalized=True)\n",
    "    wn_times_p.append(result.best)\n",
    "        \n",
    "    \n",
    "    for times, method in [[uwf_times_p, unifrac], [wf_times_p, w_unifrac]]:\n",
    "        result = %timeit -o make_and_run_pw_distances(method, otu_data, otu_ids=otu_ids, tree=t)\n",
    "        times.append(result.best)     \n",
    "\n",
    "    result = %timeit -o make_and_run_pw_distances(w_unifrac, otu_data, otu_ids=otu_ids, tree=t, normalized=True)\n",
    "    wnf_times_p.append(result.best)     \n",
    "\n",
    "    result = %timeit -o qiime_fwu_mat = qiime_unifrac_distance_matrix(otu_data, sample_ids=ids, otu_ids=otu_ids, tree=pyco_tree, weighted=False)\n",
    "    quwf_times_p.append(result.best)    \n",
    "    \n",
    "    result = %timeit -o qiime_fwu_mat = qiime_unifrac_distance_matrix(otu_data, sample_ids=ids, otu_ids=otu_ids, tree=pyco_tree, weighted=True)\n",
    "    qwf_times_p.append(result.best)\n",
    "\n",
    "\n",
    "    \n",
    "    # full trees\n",
    "    for times, method in [[uw_times, unweighted_unifrac], [w_times, weighted_unifrac]]:\n",
    "        result = %timeit -o pw_distances(method, otu_data, otu_ids=otu_ids, tree=tree)\n",
    "        times.append(result.best)\n",
    "\n",
    "    result = %timeit -o pw_distances(weighted_unifrac, otu_data, otu_ids=otu_ids, tree=tree, normalized=True)\n",
    "    wn_times.append(result.best)    \n",
    "        \n",
    "    for times, method in [[uwf_times, unifrac], [wf_times, w_unifrac]]:\n",
    "        result = %timeit -o make_and_run_pw_distances(method, otu_data, otu_ids=otu_ids, tree=tree)\n",
    "        times.append(result.best)     \n",
    "\n",
    "    result = %timeit -o make_and_run_pw_distances(w_unifrac, otu_data, otu_ids=otu_ids, tree=tree, normalized=True)\n",
    "    wnf_times.append(result.best)     \n",
    "    \n",
    "    result = %timeit -o qiime_fwu_mat = qiime_unifrac_distance_matrix(otu_data, sample_ids=ids, otu_ids=otu_ids, tree=pyco_tree, weighted=False)\n",
    "    quwf_times.append(result.best)\n",
    "    \n",
    "    result = %timeit -o qiime_fwu_mat = qiime_unifrac_distance_matrix(otu_data, sample_ids=ids, otu_ids=otu_ids, tree=pyco_tree, weighted=True)\n",
    "    qwf_times.append(result.best)"
   ]
  },
  {
   "cell_type": "code",
   "execution_count": 13,
   "metadata": {
    "collapsed": false
   },
   "outputs": [
    {
     "name": "stdout",
     "output_type": "stream",
     "text": [
      "u\t: unweighted unifrac\n",
      "w\t: weighted unifrac\n",
      "fu\t: unweighted fast unifrac\n",
      "fw\t: weighted fast unifrac\n",
      "wn\t: weighted normalized unifrac\n",
      "fwn\t: weighted normalized fast unifrac\n",
      "quwf\t: pycogent unweighted fast unifrac\n",
      "qwf\t: pycogent weighted fast unifrac\n",
      "u-p\t: unweighted unifrac pruned tree\n",
      "w-p\t: weighted unifrac pruned tree\n",
      "fu-p\t: unweighted fast unifrac pruned tree\n",
      "fw-p\t: weighted fast unifrac pruned tree\n",
      "wn-p\t: weighted normalized unifrac pruned tree\n",
      "fwn-p\t: weighted normalized fast unifrac pruned tree\n",
      "quwf-p\t: pycogent unweighted fast unifrac pruned tree\n",
      "qwf-p\t: pycogent weighted fast unifrac pruned tree\n"
     ]
    },
    {
     "data": {
      "image/png": "[encoded data removed]",
      "text/plain": [
       "<matplotlib.figure.Figure at 0x1316d0050>"
      ]
     },
     "metadata": {},
     "output_type": "display_data"
    }
   ],
   "source": [
    "from matplotlib.pyplot import *\n",
    "fig = figure(figsize=(6,6))\n",
    "plot(sample_counts, uw_times, '--', color='blue')\n",
    "plot(sample_counts, w_times, '--', color='cyan')\n",
    "plot(sample_counts, uwf_times, '--', color='red')\n",
    "plot(sample_counts, quwf_times, color='m')\n",
    "plot(sample_counts, wf_times, '--', color='orange')\n",
    "plot(sample_counts, wn_times, '--', color='green')\n",
    "plot(sample_counts, wnf_times, '--', color='black')\n",
    "plot(sample_counts, qwf_times, color='violet')\n",
    "\n",
    "plot(sample_counts, uw_times_p, color='blue')\n",
    "plot(sample_counts, w_times_p, color='cyan')\n",
    "plot(sample_counts, uwf_times_p, color='red')\n",
    "plot(sample_counts, quwf_times_p, color='m')\n",
    "plot(sample_counts, wf_times_p, color='orange')\n",
    "plot(sample_counts, wn_times_p, color='green')\n",
    "plot(sample_counts, wnf_times_p, color='black')\n",
    "plot(sample_counts, qwf_times_p, color='violet')\n",
    "\n",
    "legend_acronyms = [\n",
    "    ('u', 'unweighted unifrac'), \n",
    "    ('w', 'weighted unifrac'), \n",
    "    ('fu', 'unweighted fast unifrac'), \n",
    "    ('fw', 'weighted fast unifrac'), \n",
    "    ('wn', 'weighted normalized unifrac'), \n",
    "    ('fwn', 'weighted normalized fast unifrac'), \n",
    "    ('quwf', 'pycogent unweighted fast unifrac'),\n",
    "    ('qwf', 'pycogent weighted fast unifrac'),\n",
    "    ('u-p', 'unweighted unifrac pruned tree'), \n",
    "    ('w-p', 'weighted unifrac pruned tree'), \n",
    "    ('fu-p', 'unweighted fast unifrac pruned tree'), \n",
    "    ('fw-p', 'weighted fast unifrac pruned tree'), \n",
    "    ('wn-p', 'weighted normalized unifrac pruned tree'), \n",
    "    ('fwn-p', 'weighted normalized fast unifrac pruned tree'),\n",
    "    ('quwf-p', 'pycogent unweighted fast unifrac pruned tree'),\n",
    "    ('qwf-p', 'pycogent weighted fast unifrac pruned tree')\n",
    "]\n",
    "\n",
    "legend([i[0] for i in legend_acronyms], loc=2)\n",
    "title(\"pw_distances scaling, with full trees\")\n",
    "xlabel('number of samples', fontsize=15)\n",
    "ylabel('time (seconds)', fontsize=15)\n",
    "xscale('log', basex=2)\n",
    "yscale('log')\n",
    "xlim(min(sample_counts), max(sample_counts))\n",
    "ylim(min(uwf_times_p), max(w_times))\n",
    "tick_params(axis='both', which='major', labelsize=12)\n",
    "tick_params(axis='both', which='minor', labelsize=12)\n",
    "savefig('edu vs fast.png')\n",
    "\n",
    "for ac, name in legend_acronyms:\n",
    "    print(\"%s\\t: %s\" % (ac, name))"
   ]
  },
  {
   "cell_type": "markdown",
   "metadata": {},
   "source": [
    "Extend to larger sample counts for fast unifrac"
   ]
  },
  {
   "cell_type": "code",
   "execution_count": null,
   "metadata": {
    "collapsed": false
   },
   "outputs": [
    {
     "name": "stdout",
     "output_type": "stream",
     "text": [
      "sample count: 64\n",
      "1 loops, best of 3: 351 ms per loop\n",
      "1 loops, best of 3: 242 ms per loop\n",
      "1 loops, best of 3: 14.9 s per loop\n",
      "1 loops, best of 3: 4.37 s per loop"
     ]
    }
   ],
   "source": [
    "sample_counts_ext = [64, 128, 256, 512, 1024]\n",
    "for n_samples in sample_counts_ext:\n",
    "    print(\"sample count: %d\" % n_samples)\n",
    "    ids, otu_ids, otu_data, t = get_random_samples(n_samples, tree, True)\n",
    "\n",
    "    for times, method in [[uwf_times_p, unifrac], [wf_times_p, w_unifrac]]:\n",
    "        result = %timeit -o make_and_run_pw_distances(method, otu_data, otu_ids=otu_ids, tree=t)\n",
    "        times.append(result.best)     \n",
    "\n",
    "    result = %timeit -o make_and_run_pw_distances(w_unifrac, otu_data, otu_ids=otu_ids, tree=t, normalized=True)\n",
    "    wnf_times_p.append(result.best)     \n",
    "    \n",
    "    result = %timeit -o qiime_unifrac_distance_matrix(otu_data, sample_ids=ids, otu_ids=otu_ids, tree=pyco_tree, weighted=False)\n",
    "    quwf_times_p.append(result.best)     \n",
    "    \n",
    "    result = %timeit -o qiime_unifrac_distance_matrix(otu_data, sample_ids=ids, otu_ids=otu_ids, tree=pyco_tree, weighted=True)\n",
    "    qwf_times_p.append(result.best)     \n",
    "    \n",
    "    for times, method in [[uwf_times, unifrac], [wf_times, w_unifrac]]:\n",
    "        result = %timeit -o make_and_run_pw_distances(method, otu_data, otu_ids=otu_ids, tree=tree)\n",
    "        times.append(result.best)     \n",
    "\n",
    "    result = %timeit -o make_and_run_pw_distances(w_unifrac, otu_data, otu_ids=otu_ids, tree=tree, normalized=True)\n",
    "    wnf_times.append(result.best) \n",
    "    \n",
    "    result = %timeit -o qiime_unifrac_distance_matrix(otu_data, sample_ids=ids, otu_ids=otu_ids, tree=pyco_tree, weighted=False)\n",
    "    quwf_times.append(result.best)     \n",
    "    \n",
    "    result = %timeit -o qiime_unifrac_distance_matrix(otu_data, sample_ids=ids, otu_ids=otu_ids, tree=pyco_tree, weighted=True)\n",
    "    qwf_times.append(result.best)     \n"
   ]
  },
  {
   "cell_type": "code",
   "execution_count": null,
   "metadata": {
    "collapsed": false
   },
   "outputs": [],
   "source": [
    "# at 4GB mem for 1024 set, counts array in this case is ~(1024 x 180000) or approx 1.4GB\n",
    "# so not _that_ bad given the other resident data structures and notebook state.\n",
    "\n",
    "sample_counts_ext = [64, 128, 256, 512, 1024]\n",
    "\n",
    "sample_counts_full = sample_counts[:]\n",
    "sample_counts_full.extend(sample_counts_ext)\n",
    "                                  \n",
    "fig = figure(figsize=(6,6))\n",
    "plot(sample_counts_full, uwf_times, '--', color='red')\n",
    "plot(sample_counts_full, wf_times, '--', color='orange')\n",
    "plot(sample_counts_full, quwf_times, '--', color='green')\n",
    "plot(sample_counts_full, qwf_times, '--', color='blue')\n",
    "plot(sample_counts_full, wnf_times, '--', color='black')\n",
    "plot(sample_counts_full, uwf_times_p, color='red')\n",
    "plot(sample_counts_full, wf_times_p, color='orange')\n",
    "plot(sample_counts_full, quwf_times_p, color='green')\n",
    "plot(sample_counts_full, qwf_times_p, color='blue')\n",
    "plot(sample_counts_full, wnf_times_p, color='black')\n",
    "\n",
    "legend_acronyms = [\n",
    "    ('fu', 'unweighted fast unifrac'), \n",
    "    ('fw', 'weighted fast unifrac'), \n",
    "    ('qfu', 'pycogent unweighted fast unifrac'), \n",
    "    ('qfw', 'pycogent weighted fast unifrac'), \n",
    "    ('fwn', 'weighted normalized fast unifrac'), \n",
    "    ('fu-p', 'unweighted fast unifrac pruned tree'), \n",
    "    ('fw-p', 'weighted fast unifrac pruned tree'), \n",
    "    ('qfu-p', 'pycogent unweighted fast unifrac pruned tree'), \n",
    "    ('qfw-p', 'pycogent weighted fast unifrac pruned tree'), \n",
    "    ('fwn-p', 'weighted normalized fast unifrac pruned tree')\n",
    "]\n",
    "\n",
    "legend([i[0] for i in legend_acronyms], loc=2)\n",
    "title(\"pw_distances scaling, extended fast unifrac\")\n",
    "xlabel('number of samples', fontsize=15)\n",
    "ylabel('time (seconds)', fontsize=15)\n",
    "xscale('log', basex=2)\n",
    "yscale('log')\n",
    "xlim(min(sample_counts_full), max(sample_counts_full))\n",
    "ylim(min(uwf_times_p), max([uwf_times[-1], wf_times[-1], wnf_times[-1]]))\n",
    "tick_params(axis='both', which='major', labelsize=12)\n",
    "tick_params(axis='both', which='minor', labelsize=12)\n",
    "savefig('fast extended.png')\n",
    "\n",
    "for ac, name in legend_acronyms:\n",
    "    print(\"%s\\t: %s\" % (ac, name))"
   ]
  },
  {
   "cell_type": "code",
   "execution_count": null,
   "metadata": {
    "collapsed": false
   },
   "outputs": [],
   "source": [
    "n_upper_tri = lambda n: max((n**2 / 2.0) - n, 1)\n",
    "time_per_calc = lambda times, counts: [(t / n_upper_tri(c)) for t, c in zip(times, counts)]\n",
    "\n",
    "fig = figure(figsize=(6,6))\n",
    "plot(sample_counts_full, time_per_calc(uwf_times, sample_counts_full), '--', color='red')\n",
    "plot(sample_counts_full, time_per_calc(wf_times, sample_counts_full), '--', color='orange')\n",
    "plot(sample_counts_full, time_per_calc(quwf_times, sample_counts_full), '--', color='red')\n",
    "plot(sample_counts_full, time_per_calc(qwf_times, sample_counts_full), '--', color='orange')\n",
    "plot(sample_counts_full, time_per_calc(wnf_times, sample_counts_full), '--', color='black')\n",
    "plot(sample_counts_full, time_per_calc(uwf_times_p, sample_counts_full), color='red')\n",
    "plot(sample_counts_full, time_per_calc(wf_times_p, sample_counts_full), color='orange')\n",
    "plot(sample_counts_full, time_per_calc(quwf_times_p, sample_counts_full), color='red')\n",
    "plot(sample_counts_full, time_per_calc(qwf_times_p, sample_counts_full), color='orange')\n",
    "plot(sample_counts_full, time_per_calc(wnf_times_p, sample_counts_full), color='black')\n",
    "\n",
    "legend_acronyms = [\n",
    "    ('fu', 'unweighted fast unifrac'), \n",
    "    ('fw', 'weighted fast unifrac'), \n",
    "    ('fwn', 'weighted normalized fast unifrac'), \n",
    "    ('fu-p', 'unweighted fast unifrac pruned tree'), \n",
    "    ('fw-p', 'weighted fast unifrac pruned tree'), \n",
    "    ('fwn-p', 'weighted normalized fast unifrac pruned tree')\n",
    "]\n",
    "\n",
    "legend([i[0] for i in legend_acronyms], loc=2)\n",
    "title(\"pw_distances scaling, fast unifrac extended\")\n",
    "xlabel('number of samples', fontsize=15)\n",
    "ylabel('time (seconds) per pairwise calc', fontsize=15)\n",
    "xscale('log', basex=2)\n",
    "yscale('log')\n",
    "xlim(min(sample_counts_full), max(sample_counts_full))\n",
    "#ylim(min(uwf_times_p), max([uwf_times[-1], wf_times[-1], wnf_times[-1]]))\n",
    "tick_params(axis='both', which='major', labelsize=12)\n",
    "tick_params(axis='both', which='minor', labelsize=12)\n",
    "savefig('fast extended per calc.png')\n",
    "\n",
    "for ac, name in legend_acronyms:\n",
    "    print(\"%s\\t: %s\" % (ac, name))"
   ]
  },
  {
   "cell_type": "code",
   "execution_count": null,
   "metadata": {
    "collapsed": true
   },
   "outputs": [],
   "source": []
  }
 ],
 "metadata": {
  "kernelspec": {
   "display_name": "Python 2",
   "language": "python",
   "name": "python2"
  },
  "language_info": {
   "codemirror_mode": {
    "name": "ipython",
    "version": 2
   },
   "file_extension": ".py",
   "mimetype": "text/x-python",
   "name": "python",
   "nbconvert_exporter": "python",
   "pygments_lexer": "ipython2",
   "version": "2.7.10"
  }
 },
 "nbformat": 4,
 "nbformat_minor": 0
}
